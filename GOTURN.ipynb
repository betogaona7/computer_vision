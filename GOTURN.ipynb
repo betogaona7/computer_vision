{
 "cells": [
  {
   "cell_type": "markdown",
   "metadata": {
    "colab_type": "text",
    "id": "v4h-6l40Uf7j"
   },
   "source": [
    "# GOTURN\n",
    "\n",
    "Generic Object Tracking Using Regression Networks. It is a deep learning based tracking algorithm.  The goal is to keep track of an object in a video sequence, the algorithm is initialized with a frame of a video sequence and a bounding box for all subsequent frames."
   ]
  },
  {
   "cell_type": "code",
   "execution_count": 1,
   "metadata": {
    "colab": {},
    "colab_type": "code",
    "id": "urrnrTElYg5i"
   },
   "outputs": [],
   "source": [
    "import cv2"
   ]
  },
  {
   "cell_type": "code",
   "execution_count": 2,
   "metadata": {
    "colab": {
     "base_uri": "https://localhost:8080/",
     "height": 167
    },
    "colab_type": "code",
    "id": "KfnyVu9lZx5j",
    "outputId": "3b2fff84-47fb-4828-ae4c-a88dc505a594"
   },
   "outputs": [],
   "source": [
    "tracker = cv2.TrackerGOTURN.create()"
   ]
  },
  {
   "cell_type": "code",
   "execution_count": 3,
   "metadata": {
    "colab": {},
    "colab_type": "code",
    "id": "4gUlqABqaALu"
   },
   "outputs": [],
   "source": [
    "video = cv2.VideoCapture(\"images/video.mp4\")\n",
    "\n",
    "okay, frame = video.read()\n",
    "if not okay:\n",
    "    print(\"Cannot read video file\")"
   ]
  },
  {
   "cell_type": "code",
   "execution_count": 6,
   "metadata": {
    "colab": {},
    "colab_type": "code",
    "id": "vM3AJiNwbQ6_"
   },
   "outputs": [],
   "source": [
    "# Define initial bounding box\n",
    "bbox = (309, 211, 122, 114)\n",
    "\n",
    "# Select a different bounding box\n",
    "#bbox = cv2.selectROI(frame, False)\n",
    "\n",
    "# Initialize tracker with first frame and boundig box\n",
    "ok = tracker.init(frame, bbox)"
   ]
  },
  {
   "cell_type": "code",
   "execution_count": 7,
   "metadata": {
    "colab": {},
    "colab_type": "code",
    "id": "YEX4q9y8cjlY"
   },
   "outputs": [],
   "source": [
    "#Predict the bounding box in a new frame\n",
    "while True:\n",
    "    # Read a new frame \n",
    "    okay, frame = video.read()\n",
    "    if not okay:\n",
    "        break\n",
    "        \n",
    "    # Start timer \n",
    "    timer = cv2.getTickCount()\n",
    "    \n",
    "    # Update tracker\n",
    "    okay, bbox = tracker.update(frame)\n",
    "    \n",
    "    # Calculate Frames per second (FPS)\n",
    "    fps = cv2.getTickFrequency() / (cv2.getTickCount() - timer)\n",
    "    \n",
    "    # Draw bounding box\n",
    "    if okay:\n",
    "        p1 = (int(bbox[0]), int(bbox[1]))\n",
    "        p2 = (int(bbox[0] + bbox[2]), int(bbox[1] + bbox[3]))\n",
    "        cv2.rectangle(frame, p1, p2, (255, 0, 0), 2, 1)\n",
    "    else:\n",
    "        cv2.putText(frame, \"Tracking fail\", (100, 80), cv2.FONT_HERSHEY_SIMPLEX, 0.75, (0,0,255), 2)\n",
    "    \n",
    "    # Display tracker type on frame \n",
    "    cv2.putText(frame, \"GOTURN Tracker\", (100,20), cv2.FONT_HERSHEY_SIMPLEX, 0.75, (50,170,50),2)\n",
    "    \n",
    "    # Display FPS on frame\n",
    "    cv2.putText(frame, \"FPS : \" + str(int(fps)), (100,50), cv2.FONT_HERSHEY_SIMPLEX, 0.75, (50,170,50), 2)\n",
    "    \n",
    "    # Display result\n",
    "    cv2.imshow(\"Tracking\", frame)\n",
    "    \n",
    "    # Exit if ESC pressed\n",
    "    k = cv2.waitKey(1) & 0xff\n",
    "    if k == 27:\n",
    "        break"
   ]
  },
  {
   "cell_type": "markdown",
   "metadata": {},
   "source": [
    "![Output](images/tracker.gif)"
   ]
  },
  {
   "cell_type": "markdown",
   "metadata": {},
   "source": [
    "### Build video from images"
   ]
  },
  {
   "cell_type": "code",
   "execution_count": 6,
   "metadata": {},
   "outputs": [
    {
     "data": {
      "text/plain": [
       "<VideoWriter 0x7f4127cd7db0>"
      ]
     },
     "execution_count": 6,
     "metadata": {},
     "output_type": "execute_result"
    }
   ],
   "source": [
    "import glob \n",
    "import os \n",
    "\n",
    "out_path = \"./images/video/\"\n",
    "images = list(glob.iglob(os.path.join(out_path, '*.jpg')))\n",
    "images = sorted(images, key=lambda x: float(os.path.split(x)[1][:-3]))\n",
    "\n",
    "def make_video(outvid, images=None, fps=30, size=None, is_color=True, format=\"FMP4\"):\n",
    "    fourcc = cv2.VideoWriter_fourcc(*format)\n",
    "    vid = None\n",
    "    for image in images:\n",
    "        if not os.path.exists(image):\n",
    "            raise FileNotFoundError(image)\n",
    "        img = cv2.imread(image)\n",
    "        if vid is None:\n",
    "            if size is None:\n",
    "                size = img.shape[1], img.shape[0]\n",
    "            vid = cv2.VideoWriter(outvid, fourcc, float(fps), size, is_color)\n",
    "        if size[0] != img.shape[1] and size[1] != img.shape[0]:\n",
    "            img = cv2.resize(img, size)\n",
    "        vid.write(img)\n",
    "    vid.release()\n",
    "    return vid\n",
    "\n",
    "make_video(\"./video.mp4\", images)"
   ]
  }
 ],
 "metadata": {
  "colab": {
   "collapsed_sections": [],
   "name": "GOTURN.ipynb",
   "provenance": [],
   "version": "0.3.2"
  },
  "kernelspec": {
   "display_name": "Python 3",
   "language": "python",
   "name": "python3"
  },
  "language_info": {
   "codemirror_mode": {
    "name": "ipython",
    "version": 3
   },
   "file_extension": ".py",
   "mimetype": "text/x-python",
   "name": "python",
   "nbconvert_exporter": "python",
   "pygments_lexer": "ipython3",
   "version": "3.5.4"
  },
  "widgets": {
   "state": {},
   "version": "1.1.2"
  }
 },
 "nbformat": 4,
 "nbformat_minor": 1
}
